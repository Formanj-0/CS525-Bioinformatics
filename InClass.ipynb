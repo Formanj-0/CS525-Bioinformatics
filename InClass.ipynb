{
 "cells": [
  {
   "cell_type": "code",
   "execution_count": 2,
   "metadata": {},
   "outputs": [],
   "source": [
    "import numpy as np"
   ]
  },
  {
   "cell_type": "markdown",
   "metadata": {},
   "source": [
    "# 2/4/2025"
   ]
  },
  {
   "cell_type": "markdown",
   "metadata": {},
   "source": [
    "k-mers"
   ]
  },
  {
   "cell_type": "code",
   "execution_count": 26,
   "metadata": {},
   "outputs": [
    {
     "data": {
      "text/plain": [
       "np.int64(6)"
      ]
     },
     "execution_count": 26,
     "metadata": {},
     "output_type": "execute_result"
    }
   ],
   "source": [
    "s = 'SWISSCHEESE'\n",
    "t = 'SWISSCHOC'\n",
    "\n",
    "# calc the 2-mers of s and t (this will have 20^k dimensions for amino acid library of 20)\n",
    "s_2mers_str = [s[i:i+2] for i in range(len(s)-1)]\n",
    "t_2mers_str = [t[i:i+2] for i in range(len(t)-1)]\n",
    "\n",
    "# need to share the same kmer set\n",
    "s_2mers = [s_2mers_str.count(kmer) for kmer in set(s_2mers_str)]\n",
    "t_2mers = [t_2mers_str.count(kmer) for kmer in set(s_2mers_str)]\n",
    "\n",
    "# this describes how many kmers are shared\n",
    "np.dot(s_2mers, t_2mers)\n",
    "\n",
    "# this k-mer composition can be extended to allow for mismatches (mismatch kernel)\n",
    "# you can also group similar characters with similar characteristics (reduce alphabet)\n",
    "# you can also asign position dependent kmers (this requires alignment) dim = 20^k * Length of seq"
   ]
  },
  {
   "cell_type": "markdown",
   "metadata": {},
   "source": [
    "Motifs"
   ]
  },
  {
   "cell_type": "code",
   "execution_count": null,
   "metadata": {},
   "outputs": [],
   "source": [
    "# multiple sequence alignment \n",
    "# 'bag of words' is the number of motifs\n",
    "\n",
    "# need sequence alignment for this \n",
    "# there are dynamical programming techniques to do 2 sequences\n",
    "# there are huristic techniques that can do it for more sequences\n",
    "\n",
    "# PFAM (database of protein family)\n"
   ]
  },
  {
   "cell_type": "markdown",
   "metadata": {},
   "source": [
    "Kernels"
   ]
  },
  {
   "cell_type": "code",
   "execution_count": null,
   "metadata": {},
   "outputs": [],
   "source": [
    "# X - features n (samples) x d (features)\n",
    "# Kernel (K) is a matrix of dot products (n x n)\n",
    "# k[i,j] = dot(x[i], x[j]) # simlarity of sampe i and j\n",
    "\n"
   ]
  },
  {
   "cell_type": "markdown",
   "metadata": {},
   "source": []
  }
 ],
 "metadata": {
  "kernelspec": {
   "display_name": ".venv",
   "language": "python",
   "name": "python3"
  },
  "language_info": {
   "codemirror_mode": {
    "name": "ipython",
    "version": 3
   },
   "file_extension": ".py",
   "mimetype": "text/x-python",
   "name": "python",
   "nbconvert_exporter": "python",
   "pygments_lexer": "ipython3",
   "version": "3.11.4"
  }
 },
 "nbformat": 4,
 "nbformat_minor": 2
}
