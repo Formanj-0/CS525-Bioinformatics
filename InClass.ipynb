{
 "cells": [
  {
   "cell_type": "code",
   "execution_count": 1,
   "metadata": {},
   "outputs": [],
   "source": [
    "import numpy as np\n",
    "import random"
   ]
  },
  {
   "cell_type": "markdown",
   "metadata": {},
   "source": [
    "# 2/4/2025"
   ]
  },
  {
   "cell_type": "markdown",
   "metadata": {},
   "source": [
    "k-mers"
   ]
  },
  {
   "cell_type": "code",
   "execution_count": 26,
   "metadata": {},
   "outputs": [
    {
     "data": {
      "text/plain": [
       "np.int64(6)"
      ]
     },
     "execution_count": 26,
     "metadata": {},
     "output_type": "execute_result"
    }
   ],
   "source": [
    "s = 'SWISSCHEESE'\n",
    "t = 'SWISSCHOC'\n",
    "\n",
    "# calc the 2-mers of s and t (this will have 20^k dimensions for amino acid library of 20)\n",
    "s_2mers_str = [s[i:i+2] for i in range(len(s)-1)]\n",
    "t_2mers_str = [t[i:i+2] for i in range(len(t)-1)]\n",
    "\n",
    "# need to share the same kmer set\n",
    "s_2mers = [s_2mers_str.count(kmer) for kmer in set(s_2mers_str)]\n",
    "t_2mers = [t_2mers_str.count(kmer) for kmer in set(s_2mers_str)]\n",
    "\n",
    "# this describes how many kmers are shared\n",
    "np.dot(s_2mers, t_2mers)\n",
    "\n",
    "# this k-mer composition can be extended to allow for mismatches (mismatch kernel)\n",
    "# you can also group similar characters with similar characteristics (reduce alphabet)\n",
    "# you can also asign position dependent kmers (this requires alignment) dim = 20^k * Length of seq"
   ]
  },
  {
   "cell_type": "markdown",
   "metadata": {},
   "source": [
    "Motifs"
   ]
  },
  {
   "cell_type": "code",
   "execution_count": null,
   "metadata": {},
   "outputs": [],
   "source": [
    "# multiple sequence alignment \n",
    "# 'bag of words' is the number of motifs\n",
    "\n",
    "# need sequence alignment for this \n",
    "# there are dynamical programming techniques to do 2 sequences\n",
    "# there are huristic techniques that can do it for more sequences\n",
    "\n",
    "# PFAM (database of protein family)\n"
   ]
  },
  {
   "cell_type": "markdown",
   "metadata": {},
   "source": [
    "Kernels"
   ]
  },
  {
   "cell_type": "code",
   "execution_count": null,
   "metadata": {},
   "outputs": [],
   "source": [
    "# X - features n (samples) x d (features)\n",
    "# Kernel (K) is a matrix of dot products (n x n)\n",
    "# k[i,j] = dot(x[i], x[j]) # simlarity of sampe i and j\n",
    "\n"
   ]
  },
  {
   "cell_type": "markdown",
   "metadata": {},
   "source": [
    "# 2/6/2025"
   ]
  },
  {
   "cell_type": "code",
   "execution_count": null,
   "metadata": {},
   "outputs": [],
   "source": [
    "# a bunch of biology today, which I already know "
   ]
  },
  {
   "cell_type": "code",
   "execution_count": 15,
   "metadata": {},
   "outputs": [
    {
     "name": "stdout",
     "output_type": "stream",
     "text": [
      "DNA Sequences:\n",
      "['GGGCGCACGGCG', 'GTCTAGCACGCT', 'TGAGTCTTGACC', 'TATAGAGGTAGC', 'CCGCGCATACGA']\n",
      "Profiles:\n",
      "[[0.11111111 0.22222222 0.22222222 0.22222222 0.22222222 0.22222222\n",
      "  0.33333333 0.22222222 0.22222222 0.33333333 0.11111111 0.22222222]\n",
      " [0.22222222 0.22222222 0.22222222 0.33333333 0.11111111 0.44444444\n",
      "  0.22222222 0.22222222 0.22222222 0.22222222 0.44444444 0.33333333]\n",
      " [0.33333333 0.33333333 0.33333333 0.22222222 0.44444444 0.22222222\n",
      "  0.22222222 0.22222222 0.33333333 0.33333333 0.33333333 0.22222222]\n",
      " [0.33333333 0.22222222 0.22222222 0.22222222 0.22222222 0.11111111\n",
      "  0.22222222 0.33333333 0.22222222 0.11111111 0.11111111 0.22222222]]\n",
      "Scores:\n",
      "[np.float64(1.9823422400357346e-06), np.float64(6.526229596825463e-08), np.float64(6.607807466785781e-07), np.float64(1.4684016592857292e-07), np.float64(4.405204977857186e-07)]\n"
     ]
    }
   ],
   "source": [
    "\n",
    "\n",
    "# Finding Transcription factor binding motifs\n",
    "# What is a good motif\n",
    "\n",
    "# Consensus string:\n",
    "# the sring that represents the most frequent character in a postion\n",
    "# A simple score would be to count the deviations from the consensus\n",
    "\n",
    "# Motif Finding \n",
    "# input: dna, a collection of t strings of len n and an interger k\n",
    "# output: A collection of k-mers, one from each string in DNA minimizing their score\n",
    "\n",
    "# Apply an optimizaiton problem \n",
    "\n",
    "# Possible choices of k-mers, each of t strings in DNA has n-k+1 k-mer starting pos\n",
    "# and so there are (n-k+1)^t ~ n^t possible \n",
    "\n",
    "# this makes it not doable to brute force.\n",
    "\n",
    "# NP-Complete (non-polynomial time problems, hint n^t)\n",
    "# Randomized Algorithms (example: Monte Carlo Methods)\n",
    "\n",
    "# Profile Matrix, Probablility based on the number of occurance in the input DNA\n",
    "\n",
    "# Random Starting Motifs -> Profile(Motifs) -> Motifs(Profile(Motifs))\n",
    "#        k-mer string       Probability of nucletides       probablility of string         do this iteratively until max\n",
    "\n",
    "# 0 are not allowed because it cause probilities to get destroyed\n",
    "# solution: Pseudocounts (add 1 nuc tide to each position) \n",
    "\n",
    "# Randomly generate DNA\n",
    "def generate_random_dna(length):\n",
    "    return ''.join(random.choice('ATCG') for _ in range(length))\n",
    "\n",
    "def generate_dna_list(R, C):\n",
    "    return [generate_random_dna(C) for _ in range(R)]\n",
    "\n",
    "R, C = 5, 12\n",
    "dna = generate_dna_list(R, C)\n",
    "\n",
    "print('DNA Sequences:')\n",
    "print(dna)\n",
    "\n",
    "# Calculate the Profile\n",
    "def calc_profile(dna):\n",
    "    # count the occurrence of a nucleotide in each position\n",
    "    profile = np.zeros((4, C), dtype=int)\n",
    "    nucleotide_index = {'A': 0, 'C': 1, 'G': 2, 'T': 3}\n",
    "    for seq in dna:\n",
    "        for i, nucleotide in enumerate(seq):\n",
    "            profile[nucleotide_index[nucleotide]][i] += 1\n",
    "\n",
    "    profile += np.ones_like(profile) # Pseudocounts\n",
    "\n",
    "    # calculate the probablities\n",
    "    denominator = np.sum(profile, axis=0)\n",
    "    profile = np.divide(profile, denominator)\n",
    "    return profile\n",
    "\n",
    "print('Profiles:')\n",
    "print(profile := calc_profile(dna))\n",
    "\n",
    "# calculate the probablity of each dna base on the profile\n",
    "def calc_score(dna, profile):\n",
    "        nucleotide_index = {'A': 0, 'C': 1, 'G': 2, 'T': 3}\n",
    "        scores = []\n",
    "        for seq in dna:\n",
    "            score = 1\n",
    "            for i, nucleotide in enumerate(seq):\n",
    "                score *= profile[nucleotide_index[nucleotide]][i]\n",
    "            scores.append(score)\n",
    "        return scores\n",
    "\n",
    "print('Scores:')\n",
    "print(score := calc_score(dna,profile))\n"
   ]
  },
  {
   "cell_type": "code",
   "execution_count": null,
   "metadata": {},
   "outputs": [],
   "source": []
  }
 ],
 "metadata": {
  "kernelspec": {
   "display_name": ".venv",
   "language": "python",
   "name": "python3"
  },
  "language_info": {
   "codemirror_mode": {
    "name": "ipython",
    "version": 3
   },
   "file_extension": ".py",
   "mimetype": "text/x-python",
   "name": "python",
   "nbconvert_exporter": "python",
   "pygments_lexer": "ipython3",
   "version": "3.12.7"
  }
 },
 "nbformat": 4,
 "nbformat_minor": 2
}
