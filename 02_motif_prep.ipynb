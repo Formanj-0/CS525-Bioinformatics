{
 "cells": [
  {
   "cell_type": "markdown",
   "metadata": {
    "nbgrader": {
     "grade": false,
     "grade_id": "cell-e09abccbe16870e6",
     "locked": true,
     "schema_version": 3,
     "solution": false
    }
   },
   "source": [
    "# Exercise 2:  Working with motifs and distributions in Python\n",
    "\n",
    "In this notebook we will go over some concepts that will help you with programming the Gibbs sampling algorithm."
   ]
  },
  {
   "cell_type": "markdown",
   "metadata": {},
   "source": [
    "### Counting stuff in Python\n",
    "\n",
    "Python's [defaultdict](https://docs.python.org/3/library/collections.html#collections.defaultdict) variant of the standard dictionary is useful for counting stuff, e.g. occurrences of nucleotides in a sequence:"
   ]
  },
  {
   "cell_type": "code",
   "execution_count": 1,
   "metadata": {},
   "outputs": [
    {
     "data": {
      "text/plain": [
       "defaultdict(int, {'C': 7, 'A': 6, 'T': 5, 'G': 4})"
      ]
     },
     "execution_count": 1,
     "metadata": {},
     "output_type": "execute_result"
    }
   ],
   "source": [
    "import collections\n",
    "sequence = \"CATGATCTCATCGTACGCAACG\"\n",
    "counts = collections.defaultdict(int)\n",
    "for char in sequence :\n",
    "    counts[char]+=1\n",
    "    \n",
    "counts"
   ]
  },
  {
   "cell_type": "markdown",
   "metadata": {},
   "source": [
    "Without defaultdict we would have needed to first check if a key is in the dictionary:"
   ]
  },
  {
   "cell_type": "code",
   "execution_count": 2,
   "metadata": {},
   "outputs": [
    {
     "data": {
      "text/plain": [
       "{'C': 7, 'A': 6, 'T': 5, 'G': 4}"
      ]
     },
     "execution_count": 2,
     "metadata": {},
     "output_type": "execute_result"
    }
   ],
   "source": [
    "sequence = \"CATGATCTCATCGTACGCAACG\"\n",
    "counts = {}\n",
    "for char in sequence :\n",
    "    if char not in counts :\n",
    "        counts[char]=0\n",
    "    counts[char]+=1\n",
    "counts"
   ]
  },
  {
   "cell_type": "code",
   "execution_count": 3,
   "metadata": {},
   "outputs": [
    {
     "data": {
      "text/plain": [
       "{'A': 6, 'C': 7, 'G': 4, 'T': 5}"
      ]
     },
     "execution_count": 3,
     "metadata": {},
     "output_type": "execute_result"
    }
   ],
   "source": [
    "sequence = \"CATGATCTCATCGTACGCAACG\"\n",
    "counts = {'A':0, 'C':0,'G':0,'T':0}\n",
    "for char in sequence :\n",
    "    counts[char]+=1\n",
    "counts"
   ]
  },
  {
   "cell_type": "markdown",
   "metadata": {
    "nbgrader": {
     "grade": false,
     "grade_id": "cell-f76db383ef5346fd",
     "locked": true,
     "schema_version": 3,
     "solution": false
    }
   },
   "source": [
    "The final way we can program this uses Python's [Counter](https://docs.python.org/3/library/collections.html#collections.Counter) class:"
   ]
  },
  {
   "cell_type": "code",
   "execution_count": 4,
   "metadata": {
    "nbgrader": {
     "grade": false,
     "grade_id": "cell-a16fbc0f68fc0159",
     "locked": true,
     "schema_version": 3,
     "solution": false
    },
    "scrolled": true
   },
   "outputs": [
    {
     "data": {
      "text/plain": [
       "Counter({'C': 7, 'A': 6, 'T': 5, 'G': 4})"
      ]
     },
     "execution_count": 4,
     "metadata": {},
     "output_type": "execute_result"
    }
   ],
   "source": [
    "collections.Counter(\"CATGATCTCATCGTACGCAACG\")"
   ]
  },
  {
   "cell_type": "markdown",
   "metadata": {},
   "source": [
    "### Sampling from a probability distribution\n",
    "\n",
    "When implementing randomized algorithms we often need to make random choices according to a probability distribution, i.e. we need to *sample* from that distribution.\n",
    "\n",
    "The simplest distribution to sample from is the **multinomial distribution**, which is specified by a vector of parameters\n",
    "$p_1, \\ldots, p_n$ where $\\sum_{i=1}^n p_i = 1$.\n",
    "\n",
    "To sample from a multinomial distribution, bin the numbers between 0 and 1 into $n$ bins, each with a size $p_i$.  Then pick a random number between 0 and 1 and decide the outcome according to which bin it falls into.\n",
    "\n",
    "To implement this, you can use"
   ]
  },
  {
   "cell_type": "code",
   "execution_count": 5,
   "metadata": {},
   "outputs": [
    {
     "data": {
      "text/plain": [
       "0.7739560485559633"
      ]
     },
     "execution_count": 5,
     "metadata": {},
     "output_type": "execute_result"
    }
   ],
   "source": [
    "import numpy as np\n",
    "rng = np.random.default_rng(42)\n",
    "rng.random()"
   ]
  },
  {
   "cell_type": "markdown",
   "metadata": {},
   "source": [
    "which generates a pseudo-random number between 0 and 1."
   ]
  },
  {
   "cell_type": "markdown",
   "metadata": {},
   "source": [
    "As an alternative, we can use numpy's [choice](https://numpy.org/doc/stable/reference/random/generated/numpy.random.choice.html) method of a random number generator:"
   ]
  },
  {
   "cell_type": "code",
   "execution_count": 6,
   "metadata": {},
   "outputs": [
    {
     "data": {
      "text/plain": [
       "'G'"
      ]
     },
     "execution_count": 6,
     "metadata": {},
     "output_type": "execute_result"
    }
   ],
   "source": [
    "distribution = [0.1, 0.2, 0.5,0.2]\n",
    "rng.choice(['A','C','G','T'], p=distribution)"
   ]
  },
  {
   "cell_type": "markdown",
   "metadata": {},
   "source": [
    "or use numpy's [multinomial](https://numpy.org/doc/stable/reference/random/generated/numpy.random.multinomial.html) method:"
   ]
  },
  {
   "cell_type": "code",
   "execution_count": 7,
   "metadata": {},
   "outputs": [
    {
     "data": {
      "text/plain": [
       "array([0, 0, 1, 0])"
      ]
     },
     "execution_count": 7,
     "metadata": {},
     "output_type": "execute_result"
    }
   ],
   "source": [
    "distribution = [0.1, 0.2, 0.5,0.2]\n",
    "rng.multinomial(1, distribution)"
   ]
  },
  {
   "cell_type": "markdown",
   "metadata": {},
   "source": [
    "### Working with motifs\n",
    "\n",
    "In our last exercise, we will look at the sequences of introns in the model plant arabidopsis.\n",
    "The first few nucleotides and the last few nucleotides in each sequence have signals in them that help delineate the boundaries of the introns.\n",
    "First we will read the sequences of those introns, and then analyze the nucleotide composition at each end of the sequence."
   ]
  },
  {
   "cell_type": "code",
   "execution_count": 8,
   "metadata": {},
   "outputs": [],
   "source": [
    "\"\"\"\n",
    "A parser for FASTA files.\n",
    "\n",
    "It can handle files that are local or on the web.\n",
    "Gzipped files do not need to be unzipped.\n",
    "\"\"\"\n",
    "\n",
    "import os\n",
    "from urllib.request import urlopen\n",
    "\n",
    "def myopen(fileName) :\n",
    "\n",
    "    if not ( os.path.exists(fileName) and os.path.isfile(fileName) ):\n",
    "        raise ValueError('file does not exist at %s' % fileName)\n",
    "    \n",
    "    import gzip\n",
    "    fileHandle = gzip.GzipFile(fileName)\n",
    "\n",
    "    gzippedFile = True\n",
    "    try :\n",
    "        line = fileHandle.readline()\n",
    "        fileHandle.close()\n",
    "    except :\n",
    "        gzippedFile = False\n",
    "\n",
    "    if gzippedFile :\n",
    "        return gzip.GzipFile(fileName)\n",
    "    else :\n",
    "        return open(fileName)\n",
    "\n",
    "\n",
    "class MalformedInput :\n",
    "    \"Exception raised when the input file does not look like a fasta file.\"\n",
    "    pass\n",
    "\n",
    "class FastaRecord :\n",
    "    \"\"\"Represents a record in a fasta file.\"\"\"\n",
    "    def __init__(self, header, sequence):\n",
    "        \"\"\"Create a record with the given header and sequence.\"\"\"\n",
    "        self.header = header\n",
    "        self.sequence = sequence\n",
    "    def __str__(self) :\n",
    "        return '>' + self.header + '\\n' + self.sequence + '\\n'\n",
    "\n",
    "    \n",
    "def _fasta_itr_from_file(file_handle) :\n",
    "    \"Provide an iteration through the fasta records in file.\"\n",
    "\n",
    "    h = file_handle.readline()[:-1]\n",
    "    if h[0] != '>':\n",
    "        raise MalformedInput()\n",
    "    h = h[1:]\n",
    "\n",
    "    seq = []\n",
    "    for line in file_handle:\n",
    "        line = line[:-1] # remove newline\n",
    "        if line[0] == '>':\n",
    "            yield FastaRecord(h,''.join(seq))\n",
    "            h = line[1:]\n",
    "            seq = []\n",
    "            continue\n",
    "        seq.append(line)\n",
    "\n",
    "    yield FastaRecord(h,''.join(seq))\n",
    "\n",
    "        \n",
    "def _fasta_itr_from_web(file_handle) :\n",
    "    \"Iterate through a fasta file posted on the web.\"\n",
    "\n",
    "    h = file_handle.readline().decode(\"utf-8\")[:-1]\n",
    "    if h[0] != '>':\n",
    "        raise MalformedInput()\n",
    "    h = h[1:]\n",
    "\n",
    "    seq = []\n",
    "    for line in file_handle:\n",
    "        line = line.decode(\"utf-8\")[:-1] # remove newline\n",
    "        if line[0] == '>':\n",
    "            yield FastaRecord(h,''.join(seq))\n",
    "            h = line[1:]\n",
    "            seq = []\n",
    "            continue\n",
    "        seq.append(line)\n",
    "\n",
    "    yield FastaRecord(h,''.join(seq))\n",
    "\n",
    "\n",
    "\n",
    "def _fasta_itr_from_name(fname):\n",
    "    \"Iterate through a fasta file with the given name.\"\n",
    "\n",
    "    f = myopen(fname)\n",
    "    for rec in _fasta_itr_from_file(f) :\n",
    "        yield rec\n",
    "\n",
    "\n",
    "def _fasta_itr(src):\n",
    "    \"\"\"Provide an iteration through the fasta records in file `src'.\n",
    "    \n",
    "    Here `src' can be either a file name or a url of a file.\n",
    "    \"\"\"\n",
    "    if type(src) == str :\n",
    "        if src.find(\"http\")>=0 :\n",
    "            file_handle = urlopen(src)\n",
    "            return _fasta_itr_from_web(file_handle)\n",
    "        else :\n",
    "            return _fasta_itr_from_name(src)\n",
    "    else:\n",
    "        raise TypeError\n",
    "\n",
    "    \n",
    "class fasta_itr (object) :\n",
    "    \"\"\"An iterator through a Fasta file\"\"\"\n",
    "\n",
    "    def __init__(self, src) :\n",
    "        \"\"\"Create an iterator through the records in src.\"\"\"\n",
    "        self.__itr = _fasta_itr(src)\n",
    "\n",
    "    def __iter__(self) :\n",
    "        return self\n",
    "\n",
    "    def __next__(self) :\n",
    "        return self.__itr.__next__()\n",
    "\n"
   ]
  },
  {
   "cell_type": "markdown",
   "metadata": {},
   "source": [
    "Using this fasta parser, let's read the sequences, which are posted on github:"
   ]
  },
  {
   "cell_type": "code",
   "execution_count": 9,
   "metadata": {},
   "outputs": [],
   "source": [
    "fasta_iterator = fasta_itr(\"https://raw.githubusercontent.com/asabenhur/CS425/main/data/arabidopsis_introns.fasta\")\n",
    "sequences = [fasta_record.sequence \n",
    "             for fasta_record in fasta_iterator]"
   ]
  },
  {
   "cell_type": "code",
   "execution_count": 10,
   "metadata": {},
   "outputs": [
    {
     "data": {
      "text/plain": [
       "54664"
      ]
     },
     "execution_count": 10,
     "metadata": {},
     "output_type": "execute_result"
    }
   ],
   "source": [
    "len(sequences)"
   ]
  },
  {
   "cell_type": "code",
   "execution_count": 11,
   "metadata": {},
   "outputs": [],
   "source": [
    "motif_length = 10\n",
    "donor_sequences = [sequence[:motif_length] \n",
    "                      for sequence in sequences]"
   ]
  },
  {
   "cell_type": "code",
   "execution_count": 12,
   "metadata": {},
   "outputs": [
    {
     "data": {
      "text/plain": [
       "'GTTAGCTTCC'"
      ]
     },
     "execution_count": 12,
     "metadata": {},
     "output_type": "execute_result"
    }
   ],
   "source": [
    "donor_sequences[0]"
   ]
  },
  {
   "cell_type": "markdown",
   "metadata": {},
   "source": [
    "With this data, we will first look at the motif at the 5' end of the sequence, which is called the *donor* motif.  In your analysis look at the first 10 nucleotides of each intron.\n",
    "\n",
    "* Plot the information content in each position of the motif and compute its total information content.  Similarly, plot the relative entropy per position and compute its overall value.  Comment on the results!  Based on your results, how far into the intron does the motif extend?\n",
    "\n",
    "Recall that information content of a position in the motif is defined as:\n",
    "\n",
    "$$\n",
    "\\log_2 4 - \\left( - \\sum_{i=1}^4 f_i \\log_2 f_i \\right)\n",
    "$$\n",
    "where $f_i$ is the observed frequency of nucleotide $i$.  \n",
    "Relative entropy is defined as:\n",
    "\n",
    "$$\n",
    " \\left( \\sum_{i=1}^4 f_i \\log_2 \\frac{f_i}{p_i} \\right)\n",
    "$$\n",
    "where $p_i$ is the background frequency of nucleotide $i$.\n",
    "\n",
    "\n",
    "* Perform a similar analysis of the acceptor motif, which is on the 3' end of the sequence.  Which part of the sequence has a stronger motif?\n"
   ]
  },
  {
   "cell_type": "code",
   "execution_count": null,
   "metadata": {},
   "outputs": [],
   "source": []
  }
 ],
 "metadata": {
  "celltoolbar": "Create Assignment",
  "kernelspec": {
   "display_name": "Python 3 (ipykernel)",
   "language": "python",
   "name": "python3"
  },
  "language_info": {
   "codemirror_mode": {
    "name": "ipython",
    "version": 3
   },
   "file_extension": ".py",
   "mimetype": "text/x-python",
   "name": "python",
   "nbconvert_exporter": "python",
   "pygments_lexer": "ipython3",
   "version": "3.11.7"
  }
 },
 "nbformat": 4,
 "nbformat_minor": 4
}
