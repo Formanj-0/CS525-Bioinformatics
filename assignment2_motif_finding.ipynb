{
 "cells": [
  {
   "cell_type": "markdown",
   "metadata": {},
   "source": [
    "# Assignment 2:  Motif finding\n",
    "\n",
    "\n",
    "## Part 1:  Motif discovery using Gibbs sampling\n",
    "\n",
    "In class we described the Gibbs sampling approach to motif finding.  Implement the algorithm and apply it to the sequences provided as the fasta file associated with this assignment, available via Canvas.  Run your algorithm and experiment with different motif lengths and other parameters of the algorithm.  Do you obtain consistent results across different runs of your code?  For scoring a motif use relative entropy.\n",
    "The data you were given is taken from ChIP-seq experiments for the transcription factor USF1.  Compare the motif you found with the motif provided in the [CIS-BP database](http://cisbp.ccbr.utoronto.ca/) and comment on the similarity in terms of the pattern of nucleotides.  What is the relative entropy score of the final motif you obtained?\n",
    "\n",
    "Note that the provided file contains a large number of sequences, which can make it difficult to test your code.\n",
    "When developing your code, test it first on a toy dataset that you create by embedding a motif in a small set of short sequences.  Demonstrate that your algorithm indeed works on this small dataset.  We suggest to then evaluate your code on a sample of the provided sequences.\n",
    "\n",
    "The motif found by your Gibbs sampler should be returned as a list-of-lists or two dimensional NumPy array, where each element in the list is a list of length four that corresponds to a position in the motif, and is a probability distribution over the nucleotides in that position, providing the probabilities for A, C, G, and T, respectively.\n",
    "\n",
    "For example, the list \n",
    "```Python\n",
    "[[0.5, 0, 0, 0.5], [0, 0.5,0.5, 0]]\n",
    "```\n",
    "represents a motif of length 2, whose first position contains either an A or T, each with probability 0.5, and its second position contains either a C or a G, each with probability 0.5."
   ]
  },
  {
   "cell_type": "code",
   "execution_count": 1,
   "metadata": {},
   "outputs": [],
   "source": [
    "# I switched the order of the motif, I like nucleotide by positions, instead of position by nucleotide.\n",
    "# it keeps my code more consistent"
   ]
  },
  {
   "cell_type": "code",
   "execution_count": 2,
   "metadata": {},
   "outputs": [
    {
     "data": {
      "text/plain": [
       "{'A': 0, 'C': 1, 'G': 2, 'T': 3}"
      ]
     },
     "execution_count": 2,
     "metadata": {},
     "output_type": "execute_result"
    }
   ],
   "source": [
    "# Nucleotide Order\n",
    "nucleotide_order = 'ACGT'\n",
    "nucleotide_index = {n: i for i, n in enumerate(nucleotide_order)}\n",
    "nucleotide_index"
   ]
  },
  {
   "cell_type": "code",
   "execution_count": 32,
   "metadata": {},
   "outputs": [
    {
     "name": "stdout",
     "output_type": "stream",
     "text": [
      "['aagccgcttttctggtaaacgccAGTGTATTactgcccaca', 'cgcaatctcagAGTGTATTtgtttgcaagtcaggcgactgc', 'cagaaggggacaccgcagtAGTGTATTgctaaccgaattgg', 'aatggacaagaagggggacAGTGTATTggtgcggagaatca', 'tAGTGTATTtggtgacgcatccttgcattcaattggctctc', 'catAGTGTATTctcgggtaaagccccgaatgaaccgagtct', 'tagttacAGTGTATTgtgctctggtggagcgtgacaacacc', 'accctgtcttgcttggttgcgccgAGTGTATTgcggaagca', 'taccaggagagggtcaAGTGTATTtctaacctggatgatag', 'tgtgtatcgtcggtctcgtcggAGTGTATTaggtacattgc', 'tcggatatgccacgAGTGTATTcctgccttctttatggtta', 'agcAGTGTATTgctgttccccagtgtagttttccgtattgt', 'gagcattgtcttAGTGTATTaagaaaggaagtcgtgacgta', 'cactaattgcagccagggtgggccgAGTGTATTttctccta', 'ttggctgtcaagtagcaggcaAGTGTATTtgcctcactcac', 'ctcaAGTGTATTttaatatgccttgaacctcgatgtacacg', 'tctttacagcgactatggattgtgggAGTGTATTtacccat', 'cggtaagccaaccgttgaaaAGTGTATTaggcgtcccccag', 'tattctattgcgatagcacggccagatgcAGTGTATTgtgg', 'gtgttttgaatgttaaaatggcgaAGTGTATTtttgaccgg', 'cgattttgtggattgcagttgcgaAGTGTATTttcagatcc', 'tatctcctgAGTGTATTtgtaaagtacgaagactgatgtgc', 'ttgttatcaaacattacaagaaactcAGTGTATTggaggcg']\n"
     ]
    }
   ],
   "source": [
    "import random\n",
    "import numpy as np\n",
    "\n",
    "#%% Generate Fake Data\n",
    "# Generate num_string (t) x DNA_lenght (l)\n",
    "t, l = 23, 41\n",
    "\n",
    "def generate_same_dna(length, nucleotide='c'):\n",
    "    return ''.join(nucleotide for _ in range(length))\n",
    "\n",
    "def generate_random_dna(length):\n",
    "    return ''.join(random.choice('atgc') for _ in range(length))\n",
    "\n",
    "def generate_dna_list(R, C, random_flag=True):\n",
    "    if random_flag:\n",
    "        return [generate_random_dna(C) for _ in range(R)]\n",
    "    else:\n",
    "        return [generate_same_dna(C) for _ in range(R)]\n",
    "\n",
    "\n",
    "dna = generate_dna_list(t, l)\n",
    "\n",
    "# insert a Kmer into each of the strings of len K\n",
    "if True:\n",
    "    random_kmer = 'AGTGTATT'\n",
    "    insertion_index = [random.choice(np.arange(l-len(random_kmer))) for _ in range(t)]\n",
    "\n",
    "    for i in range(len(insertion_index)):\n",
    "        dna[i] = dna[i][:insertion_index[i]] + random_kmer + dna[i][insertion_index[i]+len(random_kmer):]\n",
    "\n",
    "\n",
    "print(dna)"
   ]
  },
  {
   "cell_type": "code",
   "execution_count": 33,
   "metadata": {},
   "outputs": [
    {
     "name": "stdout",
     "output_type": "stream",
     "text": [
      "probablility of one of the seq: [np.float64(2.1314517708414622e-23)]\n",
      "Relative entropy: 0.5272066363390592\n"
     ]
    }
   ],
   "source": [
    "from Bio import SeqIO\n",
    "\n",
    "#%% Code Development\n",
    "fasta_path = r'database\\usf1_short.fasta'\n",
    "def load_data(file_path):\n",
    "    dna = []\n",
    "    for record in SeqIO.parse(fasta_path, 'fasta'):\n",
    "        dna.append(str(record.seq))\n",
    "\n",
    "    t = len(dna) # num of seq\n",
    "    l = len(dna[0]) # length of string\n",
    "\n",
    "    assert np.all([l == len(dna[i]) for i in range(t)]), 'sequences are not all the same length'\n",
    "\n",
    "    return dna, t, l\n",
    "\n",
    "# dna, t, l = load_data(fasta_path)\n",
    "\n",
    "def get_counts_matrix(seq:list) -> np.array: # num_nuc x n\n",
    "    counts = np.zeros([len(nucleotide_index), len(seq[0])])\n",
    "    for i_s, s in enumerate(seq):\n",
    "        for i_n, n in enumerate(s):\n",
    "            counts[nucleotide_index[n.upper()], i_n] += 1\n",
    "    return counts\n",
    "\n",
    "counts = get_counts_matrix(dna)\n",
    "# print(counts)\n",
    "\n",
    "assert counts.shape == (4, l), 'I hope Im smart'\n",
    "\n",
    "def get_profile_matrix(counts):\n",
    "    pscounts = counts + 1 # pseudo counts\n",
    "    sums = np.sum(pscounts, axis=0)\n",
    "    profile = pscounts/sums\n",
    "    return profile\n",
    "\n",
    "profile = get_profile_matrix(counts)\n",
    "# print(profile)\n",
    "\n",
    "assert np.all(np.isclose(np.sum(profile, axis=0), np.ones(l), atol=0.001)), 'they arent probabilities'\n",
    "\n",
    "def calc_probailities(kmers: list, profile: np.array):\n",
    "    probabilities = []\n",
    "    for mer in kmers:\n",
    "        prob = 1\n",
    "        for i, n in enumerate(mer):\n",
    "            prob *= profile[nucleotide_index[n.upper()], i]\n",
    "        probabilities.append(prob)\n",
    "    return probabilities\n",
    "\n",
    "probs = calc_probailities([dna[0]], profile)\n",
    "\n",
    "print(f'probablility of one of the seq: {probs}') # I had a feeling this would be very tiny in testing, I cant think of a good test\n",
    "\n",
    "\n",
    "def calculate_entropy_matrix(profile):\n",
    "    p = 0.25 # assumption: all base pairs appear at the same frequency\n",
    "    RE = np.zeros(len(profile))\n",
    "    for i in range(len(profile)):\n",
    "        RE[i] = np.sum(profile[:, i] * np.log2(profile[:, i]/p))\n",
    "    return RE\n",
    "\n",
    "RE = calculate_entropy_matrix(profile)\n",
    "\n",
    "print(f'Relative entropy: {np.sum(RE)}')\n"
   ]
  },
  {
   "cell_type": "code",
   "execution_count": 34,
   "metadata": {},
   "outputs": [],
   "source": [
    "from typing import Union\n",
    "def gibbs_motif(file_path: Union[str, list], length, iterations) -> np.array:\n",
    "    \"\"\"\n",
    "    Discover motifs using the Gibbs sampling approach.\n",
    "    \n",
    "    parameters:\n",
    "    file_name - fasta file containing the sequences\n",
    "    length - the length of the motif\n",
    "    iterations - the number of iterations to run the algorithm\n",
    "\n",
    "    Returns a motif as a list of lists or two dimensional NumPy array\n",
    "    \"\"\"\n",
    "    # initialize params\n",
    "    best_entropy = 0 \n",
    "    best_motif = None\n",
    "    k = length\n",
    "\n",
    "    # Load in dna sequences from fasta\n",
    "    if type(file_path) == str:\n",
    "        dna, t, l = load_data(file_path)\n",
    "    else: # for debugging so I can throw in made up sequences\n",
    "        dna = file_path\n",
    "        t = len(dna)\n",
    "        l = len(dna[0])\n",
    "\n",
    "    # select one random kmer from each dna sequence -> motif\n",
    "    motif_idx = [random.choice(np.arange(l-k)) for _ in range(t)]\n",
    "    motif = [seq[motif_idx[i]:motif_idx[i]+k] for i, seq in enumerate(dna)]\n",
    "\n",
    "    # begin loop\n",
    "    for iter in range(iterations):\n",
    "        # select an random index in arange(t) as withheld dna -> withheld_index, withheld_dna, motif\n",
    "        withheld_index = random.choice(np.arange(t))\n",
    "        withheld_dna = dna.pop(withheld_index)\n",
    "        withheld_motif = motif.pop(withheld_index)\n",
    "        assert len(dna) == t-1, 'we have messed up witheld a dna'\n",
    "        assert len(motif) == t-1, 'we have messed up witheld a motif'\n",
    "\n",
    "        # calculate count matrix -> counts\n",
    "        counts = get_counts_matrix(motif)\n",
    "\n",
    "        # calculate profile -> profile\n",
    "        profile = get_profile_matrix(counts)\n",
    "        assert profile.shape == (4, k), 'I hope Im smart'\n",
    "\n",
    "        # calculate probablity of all withheld kmers\n",
    "        withheld_kmers = [withheld_dna[i:i+k] for i in range(l-k)]\n",
    "        probs = calc_probailities(withheld_kmers, profile)\n",
    "\n",
    "        # select new kmer to be added to motif\n",
    "        new_kmer = random.choices(withheld_kmers, weights=probs, k=1)[0]\n",
    "        dna.insert(withheld_index, withheld_dna)\n",
    "        motif.insert(withheld_index, new_kmer)\n",
    "        assert len(dna) == t, 'we dont have all the sequences'\n",
    "        assert len(motif) == t, 'we dont have all the motifs'\n",
    "\n",
    "        # calculate relative entropy of the motif\n",
    "        RE = calculate_entropy_matrix(profile)\n",
    "        entropy = np.sum(RE)\n",
    "\n",
    "        # save best motif\n",
    "        if entropy > best_entropy:\n",
    "            best_entropy = entropy\n",
    "            best_motif = profile\n",
    "\n",
    "    return best_motif"
   ]
  },
  {
   "cell_type": "code",
   "execution_count": 56,
   "metadata": {},
   "outputs": [
    {
     "name": "stdout",
     "output_type": "stream",
     "text": [
      "Motif: \n",
      "[[0.03846154 0.03846154 0.03846154 0.03846154 0.88461538 0.03846154\n",
      "  0.03846154 0.15384615 0.11538462 0.07692308]\n",
      " [0.03846154 0.03846154 0.03846154 0.03846154 0.03846154 0.03846154\n",
      "  0.07692308 0.11538462 0.26923077 0.26923077]\n",
      " [0.88461538 0.03846154 0.88461538 0.03846154 0.03846154 0.03846154\n",
      "  0.03846154 0.30769231 0.26923077 0.26923077]\n",
      " [0.03846154 0.88461538 0.03846154 0.88461538 0.03846154 0.88461538\n",
      "  0.84615385 0.42307692 0.34615385 0.38461538]]\n",
      "Found Sequence: \n",
      "GTGTATTTTT\n",
      "True Sequence: \n",
      "AGTGTATT\n"
     ]
    }
   ],
   "source": [
    "motif = gibbs_motif(dna, 10, 5000)\n",
    "print('Motif: ')\n",
    "print(motif)\n",
    "\n",
    "def convert_motif_to_seq(motif):\n",
    "    sequence = ''\n",
    "    max_indexs = np.argmax(motif, axis=0)\n",
    "    for i in max_indexs:\n",
    "        sequence += nucleotide_order[i]\n",
    "    return sequence\n",
    "\n",
    "found_seq = convert_motif_to_seq(motif)\n",
    "print('Found Sequence: ')\n",
    "print(found_seq)\n",
    "print('True Sequence: ')\n",
    "print(random_kmer)"
   ]
  },
  {
   "cell_type": "code",
   "execution_count": 57,
   "metadata": {},
   "outputs": [
    {
     "name": "stdout",
     "output_type": "stream",
     "text": [
      "Test Probablility\n"
     ]
    },
    {
     "data": {
      "image/png": "[encoded data removed]",
      "text/plain": [
       "<Figure size 1000x300 with 1 Axes>"
      ]
     },
     "metadata": {},
     "output_type": "display_data"
    }
   ],
   "source": [
    "import matplotlib.pyplot as plt\n",
    "\n",
    "def display_logo(motif): # this is not a logo lmao\n",
    "    motif_length = motif.shape[1]\n",
    "    fig, ax = plt.subplots(figsize=(10, 3))\n",
    "\n",
    "    bottom = np.zeros(motif_length)\n",
    "    for i, nucleotide in enumerate(nucleotide_order):\n",
    "        ax.bar(range(motif_length), motif[i], bottom=bottom, label=nucleotide)\n",
    "        bottom += motif[i]\n",
    "\n",
    "    ax.set_xticks(range(motif_length))\n",
    "    ax.set_xticklabels(range(1, motif_length + 1))\n",
    "    ax.set_xlabel('Position in Motif')\n",
    "    ax.set_ylabel('Probability')\n",
    "    ax.legend(title='Nucleotide')\n",
    "    plt.show()\n",
    "\n",
    "print('Test Probablility')\n",
    "display_logo(motif)"
   ]
  },
  {
   "cell_type": "code",
   "execution_count": 59,
   "metadata": {},
   "outputs": [
    {
     "name": "stdout",
     "output_type": "stream",
     "text": [
      "Found Sequence: \n",
      "GGTCACGTGACC\n",
      "Found Probablility\n"
     ]
    },
    {
     "data": {
      "image/png": "[encoded data removed]",
      "text/plain": [
       "<Figure size 1000x300 with 1 Axes>"
      ]
     },
     "metadata": {},
     "output_type": "display_data"
    }
   ],
   "source": [
    "seq = []\n",
    "for _ in range(1):\n",
    "    motif = gibbs_motif(fasta_path, 12, 10000)\n",
    "\n",
    "    found_seq = convert_motif_to_seq(motif)\n",
    "    seq.append(found_seq)\n",
    "\n",
    "print('Found Sequence: ')\n",
    "for seq in seq:\n",
    "    print(seq)\n",
    "\n",
    "print('Found Probablility')\n",
    "display_logo(motif)"
   ]
  },
  {
   "cell_type": "code",
   "execution_count": null,
   "metadata": {},
   "outputs": [
    {
     "name": "stdout",
     "output_type": "stream",
     "text": [
      "Actual Probablility\n"
     ]
    },
    {
     "data": {
      "image/png": "[encoded data removed]",
      "text/plain": [
       "<Figure size 1000x300 with 1 Axes>"
      ]
     },
     "metadata": {},
     "output_type": "display_data"
    }
   ],
   "source": [
    "# From https://cisbp.ccbr.utoronto.ca/data/3_00/DataFiles/PWMs/Files/M02996_3.00.txt\n",
    "# USF1 M02996_3.00\n",
    "actual_motif = np.array([\n",
    "    [0.407475169890225,\t0.0904338734971249,\t0.456089911134344,\t0.0460010454783063],\n",
    "    [0.119909502262443,\t0.193873999303864,\t0.111033762617473,\t0.57518273581622],\n",
    "    [0.00180831826401447,\t0.996081977094635,\t0.00210970464135021,\t0.0],\n",
    "    [0.996081977094635,\t0.000301386377335744,\t0.00301386377335744,\t0.000602772754671489],\n",
    "    [0.00103977125032493,\t0.859110995580972,\t0.00467897062646218,\t0.135170262542241],\n",
    "    [0.117833553500661,\t0.00898282694848085,\t0.873183619550859,\t0.0],\n",
    "    [0.00241036456764086,\t0.0,\t0.00180777342573064,\t0.995781862006629],\n",
    "    [0.000904431715405487,\t0.00211034066927947,\t0.996382273138378,\t0.000602954476936991],\n",
    "    [0.413125,\t0.150875,\t0.228,\t0.208],\n",
    "    [0.0301057770545159,\t0.446433414700298,\t0.0735014917276919,\t0.449959316517494] ,\n",
    "]).T\n",
    "\n",
    "print('Actual Probablility')\n",
    "display_logo(actual_motif)\n"
   ]
  },
  {
   "cell_type": "code",
   "execution_count": null,
   "metadata": {},
   "outputs": [],
   "source": [
    "#%% Observations\n",
    "\n",
    "# Gibbs is a stochastic algorithm so I do not always find the same domain. \n",
    "# In fact if I only look at the most likely found nucelotides in each position it is normally\n",
    "# off in quite a few positions. This occurs both in the real data and my simulated data.\n",
    "# However, if I sample it a few time I will normally get the correct domain at least one. \n",
    "# Increase the number of iterations seems to get me to the correct domain more frequenctly.\n",
    "# Change the length of the kmer is interesting, if it is less then the domain size it seems to find\n",
    "# sub samples of the domain, this works well for my fake data but is really hard to tell with the real data\n",
    "# for kmers larger then the domain size it seems to find the domain as part of the motif. Really interestingly in\n",
    "# in the test data the sequence will have very high probability and the random additional points will be random. \n",
    "# Using this observation you can often see the correct motif in the real data and it seems to happen more consistently\n",
    "# with a large kmer then the domain. to spot the domain eaily, look for the orange and blue bars at 3 and 4 and the red and green bars\n",
    "# at positions 7 and 8. "
   ]
  },
  {
   "cell_type": "markdown",
   "metadata": {},
   "source": [
    "## Part 2:  a review of biology terms\n",
    "\n",
    "Answer the following questions (up to a paragraph for each question):"
   ]
  },
  {
   "cell_type": "markdown",
   "metadata": {},
   "source": [
    "* Transcription factors have a strong impact on many biological processes.  Explain how!  How many transcription factors are coded by the human genome?  Compare that to the total number of genes.  Wikipedia is a good source ( [article](https://en.wikipedia.org/wiki/Transcription_factor) ), as is the following article:  [The Human Transcription Factors\n",
    "](https://www.cell.com/cell/fulltext/S0092-8674(18)31257-1).\n",
    "  "
   ]
  },
  {
   "cell_type": "markdown",
   "metadata": {},
   "source": [
    "There are ~ 1,600 transcription factors and roughly ~20,000 protein coding genes (probably a lot more not protein coding cause only 40% of RNA not including rRNA and tRNA are mRNA). This means transcription factors are a one to many mapping for genes. This causes them to alter the state of the cell and for epigentics that regulate the binding of these genes to play a major role. In my research we look at glucocorticoids and glucocorticoid receptor (GR), and the down stream RNA production of a gene called DUSP1. GR bind to GREs and these are sprinkled throughout the genome and can play a major role in the anti-inflammatory signalling."
   ]
  },
  {
   "cell_type": "markdown",
   "metadata": {},
   "source": [
    "* What makes the motif finding problem difficult?  How does the biological technique of ChIP-seq assist in that when it comes to determining the binding sites of transcription factors?"
   ]
  },
  {
   "cell_type": "markdown",
   "metadata": {},
   "source": [
    "Motif finding is like finding a needle in a string haystack. There ~ 3 billion base pairs in the human genome, and this is computationally infeasible to go look for pattern in this letter soup. ChIP-seq is a way to shorten the seach space by using biology and chemistry to pull down only sequences that bind to the transcription factor of interest. This makes it very possible to look for patterns in this subset. "
   ]
  },
  {
   "cell_type": "markdown",
   "metadata": {},
   "source": [
    "* What is a promoter and enhancer, and how they are relevant to the topic of motif finding?"
   ]
  },
  {
   "cell_type": "markdown",
   "metadata": {},
   "source": [
    "Promoter and enhancers are awesome! Transcription is a 3D process. There is bending of the template strand that needs to occur, and many transcription factors like general transcription factors and mediator proteins that need to bind for transcription to occur. Promotors and enhancer and promoters are where these proteins bind and allow for transcription to occur. Finding these are biologically useful and are a great task for motif finding. This can be a difficult task because enhancers can often work from a large genomic distance. This is where the fun of DNA topology start to take effect and where structures like chromatin and TAD domains start to play a major role."
   ]
  },
  {
   "cell_type": "markdown",
   "metadata": {},
   "source": [
    "* In class we also described an algorithm called *RandomizedMotifSearch*.  Why do you expect Gibbs sampling to perform better?"
   ]
  },
  {
   "cell_type": "markdown",
   "metadata": {},
   "source": [
    "Just from running Gibbs many times, the seach space seems to be very textures. Having many peak and local maxima. The RandomMotifSearch algorithm will very quickly converge to one of these local maxima but will not make its way to the highest peak, this is because it is greedy and short sighted. This is why the randomness of Gibbs is so useful and allow the algorithm to more frequencly find the correct motif."
   ]
  },
  {
   "cell_type": "markdown",
   "metadata": {
    "hideOutput": true
   },
   "source": [
    "### Submission\n",
    "\n",
    "Submit your assignment as a Jupyter notebook via Canvas.  \n",
    "\n",
    "### Grading \n",
    "\n",
    "Here is what the grading sheet will look like for this assignment. \n",
    "\n",
    "```\n",
    "Grading sheet for assignment 2\n",
    "- Correctness of your Gibbs sampler, including test on toy data (70 pts)\n",
    "- Results and analysis (15 pts)\n",
    "- Biology questions (15 pts)\n",
    "```\n"
   ]
  }
 ],
 "metadata": {
  "kernelspec": {
   "display_name": ".venv",
   "language": "python",
   "name": "python3"
  },
  "language_info": {
   "codemirror_mode": {
    "name": "ipython",
    "version": 3
   },
   "file_extension": ".py",
   "mimetype": "text/x-python",
   "name": "python",
   "nbconvert_exporter": "python",
   "pygments_lexer": "ipython3",
   "version": "3.11.4"
  }
 },
 "nbformat": 4,
 "nbformat_minor": 4
}
