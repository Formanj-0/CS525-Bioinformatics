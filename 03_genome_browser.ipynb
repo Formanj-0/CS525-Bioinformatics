{
 "cells": [
  {
   "cell_type": "markdown",
   "id": "8184e679-3ea6-4414-ae05-d59e34ae6b7a",
   "metadata": {},
   "source": [
    "# Exercise 3:  Working with a genome browser\n",
    "\n",
    "In the following, you will play with the [IGV](https://igv.org) genome browser.  Rather than installing the software, you can run it as a web application.\n",
    "\n",
    "Do the following:\n",
    "\n",
    "* Open IGV.\n",
    "\n",
    "* Load the arabidopsis genome.\n",
    "\n",
    "* In IGV, find the gene `AGL16` by typing its name in the search box.\n",
    "\n",
    "Answer the following:"
   ]
  },
  {
   "cell_type": "markdown",
   "id": "5cff87e3-6125-40b7-a7a6-734db708fbf0",
   "metadata": {},
   "source": [
    "  * How many transcripts does the AGL16 gene have?  Make sure to adjust the track height using the widget on the right of the track to ensure all the transcripts are visible."
   ]
  },
  {
   "cell_type": "markdown",
   "id": "04432e0e-78c5-4727-8e4f-45d946ae0d90",
   "metadata": {},
   "source": [
    "*            motif1_copy=motif1_copy[:idx1] + random.choice(['A', 'T', 'C', 'G']) + motif1_copy[idx1+1:]\n",
    "AGL16 has 5 Transcripts"
   ]
  },
  {
   "cell_type": "markdown",
   "id": "3b011542-d2bb-469b-9162-6c6150aae902",
   "metadata": {},
   "source": [
    "  * How many exons / introns does the transcript `NM_001339845.1` have?  (That's the top one in the annotations track).\n"
   ]
  },
  {
   "cell_type": "markdown",
   "id": "ed50e42b-67cb-4203-9d77-e2046df7fe2e",
   "metadata": {},
   "source": [
    "The original gene has 8 exons and 7 introns. This gene has a mutation and still has 7 exons and 6 introns because one of the original intons become an exon and connects two exons. This process remove 1 exon and 1 intron."
   ]
  },
  {
   "cell_type": "markdown",
   "id": "59d5519e-ead8-4a76-8771-983fc0bd19c6",
   "metadata": {},
   "source": [
    "  * Which strand is the gene on (positive / negative)?\n"
   ]
  },
  {
   "cell_type": "markdown",
   "id": "4ce8d129-4c14-4397-99e0-64bd7bd14cc5",
   "metadata": {},
   "source": [
    "The AGL16 gene is on the positive strand. You can tell this because the strand is on going from left to right on the IGV browser"
   ]
  },
  {
   "cell_type": "markdown",
   "id": "5a208698-718a-495f-b02a-e3ccfe2927cc",
   "metadata": {},
   "source": [
    "  * Which genes are upstream / downstream of `AGL16`?"
   ]
  },
  {
   "cell_type": "markdown",
   "id": "776a8ece-90ae-45e2-9671-4a08aa20e325",
   "metadata": {},
   "source": [
    "There are several gene up and down stream of AGL16. A few upstream genes would be: AT3G57220, AT3G57210, AT3G57200 and a few downstream genes would be BG3, AT3G08875, AT3G57250."
   ]
  },
  {
   "cell_type": "markdown",
   "id": "3f032e3a-6d10-4273-81f7-ee4befc695c1",
   "metadata": {},
   "source": [
    "Download the file containing AGL16 binding sites from the exercise page on Canvas.\n",
    "It is also available online at [AGL16 binding locations](https://biobigdata.nju.edu.cn/ChIPHub_download/arabidopsis_thaliana/SRP187795/hammock/AGL16.target.all.bed.gz) except, that you will need to change \"Chr\" to \"chr\" for IGV to visualize it correctly.  It's very finicky about chromosome naming!\n",
    "Add this file as a track in IGV.  Using this browser track answer the following:\n",
    "  "
   ]
  },
  {
   "cell_type": "markdown",
   "id": "f83b9b64-94b1-4f41-a3a6-202d305e851c",
   "metadata": {},
   "source": [
    "* According to this track, does `AGL16` bind its own gene?"
   ]
  },
  {
   "cell_type": "markdown",
   "id": "8095480d-f975-4c9d-95c4-9c439f2abd29",
   "metadata": {},
   "source": [
    "The protein AGL16 does bind itself according to this track"
   ]
  },
  {
   "cell_type": "markdown",
   "id": "cd06b001-b35e-4805-a9ca-b941b1031d08",
   "metadata": {},
   "source": [
    "* Can you find a gene with multiple `AGL16` binding sites in its close vicinity?"
   ]
  },
  {
   "cell_type": "markdown",
   "id": "c047e916-684c-4200-a289-96226b29bb17",
   "metadata": {},
   "source": [
    "Using just the bed file, there are several AGL16 binding sites within 50 kb of the AGL16 gene. This includes the SDP1-LIKE gene upstream and ACA11 gene downstream"
   ]
  },
  {
   "cell_type": "markdown",
   "id": "cdf825aa-4633-479b-a822-e6ff97119b6d",
   "metadata": {},
   "source": [
    "* Next, let's take a look at the raw data that was used to generate the AGL16 binding site locations.  Download the wig file from the exercise's Canvas page and load it into the genome browser.  It was originally generated from the following [bigwig file](https://biobigdata.nju.edu.cn/ChIPHub_download/arabidopsis_thaliana/SRP187795/signal/AGL16_Rep1.rpgc.bw).\n",
    "What can you say about this track in comparison to the bed file we visualized earlier?"
   ]
  },
  {
   "cell_type": "markdown",
   "id": "fe561f01-b031-4005-970c-c15e0ab357d9",
   "metadata": {},
   "source": [
    "In the raw data, there is a lot more noise and a lot more potential binding sites of the AGL16 protein. This leads to the analysis being a lot more complicated, but a lot more rich with information."
   ]
  },
  {
   "cell_type": "markdown",
   "id": "55ab3109-a1c2-49f4-acbf-2c06eafbd600",
   "metadata": {},
   "source": [
    "* Now, load the human genome.  What difference do you notice about arabidopsis genes compared to human genes?"
   ]
  },
  {
   "cell_type": "markdown",
   "id": "7e351fb0-0701-468f-b717-de9511692ec0",
   "metadata": {},
   "source": [
    "For starters, humans dont have AGL16. Human genes seem to be a lot larger. I have to zoom out to 50 kb is roughly the size of the genes that I observed. They also have significantly larger intronic regions. This might mean that in humans there is a lot more non-coding interactions regulating gene expression"
   ]
  },
  {
   "cell_type": "markdown",
   "id": "2480757e",
   "metadata": {},
   "source": []
  }
 ],
 "metadata": {
  "kernelspec": {
   "display_name": "Python 3 (ipykernel)",
   "language": "python",
   "name": "python3"
  },
  "language_info": {
   "codemirror_mode": {
    "name": "ipython",
    "version": 3
   },
   "file_extension": ".py",
   "mimetype": "text/x-python",
   "name": "python",
   "nbconvert_exporter": "python",
   "pygments_lexer": "ipython3",
   "version": "3.11.7"
  }
 },
 "nbformat": 4,
 "nbformat_minor": 5
}
