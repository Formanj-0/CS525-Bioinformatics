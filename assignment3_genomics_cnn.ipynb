{
 "cells": [
  {
   "cell_type": "markdown",
   "id": "fbde3611",
   "metadata": {},
   "source": [
    "## Assignment 3:  Convolutional networks for TF ChIP-seq data\n",
    "\n",
    "In this assignment you will build on the convolutional networks we looked at in class and work on ChIP-seq data for four transcription factors in arabidopsis.\n"
   ]
  },
  {
   "cell_type": "markdown",
   "id": "9313bb24-1ac1-4263-914f-cef4af557c3e",
   "metadata": {},
   "source": [
    "### Part 1: Data Preparation\n",
    "\n",
    "In this assignment you will work with ChIP-seq for three arabidopsis transcription factors:  AGL16, GRF1, and AMS.  The peaks that represent their binding sites in the arabidopsis genome are available in the following links:\n",
    "\n",
    "* AGL16 ([bed file](https://biobigdata.nju.edu.cn/ChIPHub_download/arabidopsis_thaliana/SRP187795/hammock/AGL16.target.all.bed.gz))\n",
    "* GRF1 ([bed file](https://biobigdata.nju.edu.cn/ChIPHub_download/arabidopsis_thaliana/SRP002566/hammock/SRX021610.peak.all.bed.gz))\n",
    "* AMS ([bed file](https://biobigdata.nju.edu.cn/ChIPHub_download/arabidopsis_thaliana/SRP188198/hammock/SRX5507861.peak.all.bed.gz))\n",
    "\n",
    "These files are in [bed format](https://en.wikipedia.org/wiki/BED_(file_format)), and contain the information on the genomic locations where the ChIP-seq peaks have been detected.  The linked wikipedia article provides the information you need about the format of these files.  Your task is to extract sequences of length 500 centered at the location of each peak, which you will provide as input to the convolutional network you train.  \n",
    "\n",
    "In order to extract the sequences associated with the peaks you will need the genomic sequence for arabidopsis.  This is available from the [Ensembl plants arabidopsis portal](https://plants.ensembl.org/Arabidopsis_thaliana/Info/Index).  In that page click on \"Download DNA sequence (FASTA)\", and the first five files provide the sequences for the five arabidopsis chromosomes.\n",
    "\n",
    "For reference, we computed the sequences associated with AGL16 peaks (link is in the assignment page in Canvas).\n",
    "\n",
    "Your final data preparation task is to prepare a labeled dataset with positive examples that correspond to the peak sequences.  As negative examples, use random permutations of the positive examples.  Create one permutation from each positive example.  How many examples did you obtain for each transcription factor?"
   ]
  },
  {
   "cell_type": "code",
   "execution_count": 1,
   "id": "3bebf5a6",
   "metadata": {},
   "outputs": [],
   "source": [
    "# Task\n",
    "# - Load data\n",
    "# given bed file -> convert to fasta file (example database\\AGL16_peak_seq.fasta)\n",
    "# - Generate dataset\n",
    "# given a fasta file -> a dataset with negative example made from postive"
   ]
  },
  {
   "cell_type": "code",
   "execution_count": 2,
   "id": "2c809572",
   "metadata": {},
   "outputs": [
    {
     "name": "stderr",
     "output_type": "stream",
     "text": [
      "<>:7: SyntaxWarning: invalid escape sequence '\\A'\n",
      "<>:7: SyntaxWarning: invalid escape sequence '\\A'\n",
      "c:\\temp\\ipykernel_18640\\2856302313.py:7: SyntaxWarning: invalid escape sequence '\\A'\n",
      "  with open('database\\AGL16.target.all.bed') as f:\n"
     ]
    },
    {
     "name": "stdout",
     "output_type": "stream",
     "text": [
      "Extracted 4328 sequences and saved to FASTA file.\n"
     ]
    }
   ],
   "source": [
    "# lets look at the bed files \n",
    "from Bio import SeqIO\n",
    "from Bio.Seq import Seq\n",
    "from Bio.SeqRecord import SeqRecord\n",
    "\n",
    "positions = {}\n",
    "with open('database\\AGL16.target.all.bed') as f:\n",
    "    for line in f:\n",
    "        chr, start, stop, name, score, strand, thickStart, thickEnd, itemRgb, blockcount, blockSize, blockStart, _, _ = line.split()\n",
    "        # idk what the last two are there is only supposed to be 12 according to wikipedia\n",
    "        positions[name] = (chr, int(start), int(stop), (int(start)+int(stop))//2)\n",
    "\n",
    "genome_locations = [r'database\\Arabidopsis_thaliana.TAIR10.dna.chromosome.1.fa',\n",
    "                    r'database\\Arabidopsis_thaliana.TAIR10.dna.chromosome.2.fa',\n",
    "                    r'database\\Arabidopsis_thaliana.TAIR10.dna.chromosome.3.fa',\n",
    "                    r'database\\Arabidopsis_thaliana.TAIR10.dna.chromosome.4.fa',\n",
    "                    r'database\\Arabidopsis_thaliana.TAIR10.dna.chromosome.5.fa']\n",
    "genome = {}\n",
    "for l in genome_locations:\n",
    "    genome = genome | SeqIO.to_dict(SeqIO.parse(open(l), 'fasta'), lambda rec: 'Chr'+rec.name)\n",
    "\n",
    "# Extract 500bp sequences centered at midpoints\n",
    "sequences = []\n",
    "for name, (chr, start, stop, mid_point) in positions.items():\n",
    "    # Calculate the start and end positions for a 500bp sequence centered at midpoint\n",
    "    seq_start = max(0, mid_point - 250)  # Ensure we don't go below 0\n",
    "    seq_end = min(len(genome[chr].seq), mid_point + 250)  # Ensure we don't go beyond chromosome length\n",
    "    \n",
    "    # Extract the sequence\n",
    "    sequence = genome[chr].seq[seq_start:seq_end]\n",
    "    \n",
    "    # Create a SeqRecord\n",
    "    record = SeqRecord(sequence, id=name, description=f\"Chromosome {chr}, midpoint {mid_point}\")\n",
    "    sequences.append(record)\n",
    "\n",
    "# Write to FASTA file\n",
    "SeqIO.write(sequences, \"AGL16_peak_seq.fasta\", \"fasta\")\n",
    "print(f\"Extracted {len(sequences)} sequences and saved to FASTA file.\")\n",
    "\n",
    "\n"
   ]
  },
  {
   "cell_type": "code",
   "execution_count": null,
   "id": "9e4d11b0",
   "metadata": {},
   "outputs": [
    {
     "name": "stderr",
     "output_type": "stream",
     "text": [
      "<>:10: SyntaxWarning: invalid escape sequence '\\A'\n",
      "<>:10: SyntaxWarning: invalid escape sequence '\\A'\n",
      "c:\\temp\\ipykernel_18640\\391784335.py:10: SyntaxWarning: invalid escape sequence '\\A'\n",
      "  bed_path='database\\AGL16.target.all.bed',\n"
     ]
    }
   ],
   "source": [
    "import os\n",
    "import numpy as np\n",
    "from Bio import SeqIO\n",
    "\n",
    "def get_sequences(genome_paths = [r'database\\Arabidopsis_thaliana.TAIR10.dna.chromosome.1.fa',\n",
    "                                r'database\\Arabidopsis_thaliana.TAIR10.dna.chromosome.2.fa',\n",
    "                                r'database\\Arabidopsis_thaliana.TAIR10.dna.chromosome.3.fa',\n",
    "                                r'database\\Arabidopsis_thaliana.TAIR10.dna.chromosome.4.fa',\n",
    "                                r'database\\Arabidopsis_thaliana.TAIR10.dna.chromosome.5.fa'], \n",
    "                                bed_path='database\\AGL16.target.all.bed',\n",
    "                                len_of_seqs=500):\n",
    "    \n",
    "    positions = {}\n",
    "    with open(bed_path) as f:\n",
    "        for line in f:\n",
    "            chr, start, stop, name, score, strand, thickStart, thickEnd, itemRgb, blockcount, blockSize, blockStart, _, _ = line.split()\n",
    "            # idk what the last two are there is only supposed to be 12 according to wikipedia\n",
    "            positions[name] = (chr, int(start), int(stop), (int(start)+int(stop))//2)\n",
    "\n",
    "    genome = {}\n",
    "    for l in genome_paths:\n",
    "        genome = genome | SeqIO.to_dict(SeqIO.parse(open(l), 'fasta'), lambda rec: 'Chr'+rec.name)\n",
    "\n",
    "    sequences = []\n",
    "    for name, (chr, start, stop, mid_point) in positions.items():\n",
    "        # Calculate the start and end positions \n",
    "        seq_start = max(0, mid_point - len_of_seqs//2)\n",
    "        seq_end = min(len(genome[chr].seq), mid_point + len_of_seqs//2) \n",
    "        \n",
    "        if seq_start == 0 or seq_end == len(genome[chr].seq):\n",
    "            continue\n",
    "\n",
    "        # Extract the sequence\n",
    "        sequence = genome[chr].seq[seq_start:seq_end]\n",
    "        \n",
    "        # Create a SeqRecord\n",
    "        record = SeqRecord(sequence, id=name, description=f\"Chromosome {chr}, midpoint {mid_point}\")\n",
    "        sequences.append(record)\n",
    "\n",
    "    # Write to FASTA file\n",
    "    SeqIO.write(sequences, os.path.basename(bed_path)+\".fasta\", \"fasta\")\n",
    "    print(f\"Extracted {len(sequences)} sequences and saved to FASTA file.\")\n",
    "    return sequences"
   ]
  },
  {
   "cell_type": "code",
   "execution_count": 4,
   "id": "3c8c490a",
   "metadata": {},
   "outputs": [],
   "source": [
    "import numpy as np\n",
    "nucleotide_indexes = {'a':0, 't':1, 'g':2, 'c':3, 'w': (0,1), 'n': (0,1,2,3)}\n",
    "nucleotide_values = {'a':1, 't':1, 'g':1, 'c':1, 'w': 0.5, 'n': 0.25}\n",
    "\n",
    "def one_hot_encode(seq):\n",
    "    oneHotEncode = np.zeros([4,len(seq)])\n",
    "    for i, n in enumerate(seq):\n",
    "        oneHotEncode[nucleotide_indexes[n.lower()], i] = nucleotide_values[n.lower()]\n",
    "    return oneHotEncode\n",
    "\n",
    "def generate_dataset(sequences):\n",
    "    positive_seqs = []\n",
    "    negative_seqs = []\n",
    "\n",
    "    for seq_record in sequences:\n",
    "        positive_seqs.append(one_hot_encode(str(seq_record.seq)))\n",
    "        \n",
    "        seq_list = list(str(seq_record.seq))\n",
    "        np.random.shuffle(seq_list)\n",
    "        permuted_seq = ''.join(seq_list)\n",
    "        negative_seqs.append(one_hot_encode(permuted_seq))\n",
    "\n",
    "    positive_labels = np.ones(len(positive_seqs))\n",
    "    negative_labels = np.zeros(len(negative_seqs))\n",
    "\n",
    "    X = positive_seqs + negative_seqs\n",
    "    y = np.concatenate([positive_labels, negative_labels])\n",
    "\n",
    "    indices = np.arange(len(X))\n",
    "    np.random.shuffle(indices)\n",
    "    X = [X[i] for i in indices]\n",
    "    y = y[indices]\n",
    "\n",
    "    print(f\"Dataset created with {len(positive_seqs)} positive examples and {len(negative_seqs)} negative examples\")\n",
    "    return X, y"
   ]
  },
  {
   "cell_type": "code",
   "execution_count": 5,
   "id": "fa36a215",
   "metadata": {},
   "outputs": [
    {
     "name": "stdout",
     "output_type": "stream",
     "text": [
      "Extracted 4327 sequences and saved to FASTA file.\n",
      "Dataset created with 4327 positive examples and 4327 negative examples\n"
     ]
    }
   ],
   "source": [
    "X, y = generate_dataset(get_sequences())"
   ]
  },
  {
   "cell_type": "code",
   "execution_count": 6,
   "id": "bae4b617",
   "metadata": {},
   "outputs": [],
   "source": [
    "from torch.utils.data import Dataset, DataLoader\n",
    "from sklearn.model_selection import train_test_split\n",
    "import torch\n",
    "from torch import nn\n",
    "import sklearn as sk\n",
    "\n",
    "class chipseq_dataset(Dataset):\n",
    "    def __init__(self, xy):\n",
    "        self.x_data=np.array([el[0] for el in xy],dtype=np.float32)\n",
    "        self.y_data =np.array([el[1] for el in xy ],dtype=np.float32)\n",
    "        self.x_data = torch.from_numpy(self.x_data)\n",
    "        self.y_data = torch.from_numpy(self.y_data)\n",
    "        self.length=len(self.x_data)\n",
    "\n",
    "    def __getitem__(self, index):\n",
    "        return self.x_data[index], self.y_data[index]\n",
    "\n",
    "    def __len__(self):\n",
    "        return self.length\n",
    "\n",
    "X_train_data, X_valid_data, y_train_data, y_valid_data = train_test_split(X, y, test_size=0.25)\n",
    "\n",
    "train_dataset=chipseq_dataset([(x, y) for (x, y) in zip(X_train_data, y_train_data)])\n",
    "valid_dataset=chipseq_dataset([(x, y) for (x, y) in zip(X_valid_data, y_valid_data)])\n",
    "\n",
    "batch_size = 64\n",
    "train_loader = DataLoader(dataset=train_dataset,\n",
    "                          batch_size=batch_size,shuffle=True)\n",
    "valid_loader = DataLoader(dataset=valid_dataset,\n",
    "                          batch_size=batch_size,shuffle=True)"
   ]
  },
  {
   "cell_type": "markdown",
   "id": "2bea7438",
   "metadata": {},
   "source": [
    "### Part 2:  \n",
    "\n",
    "As discussed in class, deeper networks with multiple layers of convolution *can* improve a network's performance.  Your task here is to extend the implementation provided in class to have three layers of convolution.  In addition, implement early stopping based on performance on the validation set (essentially, continue training until the validation loss stops decreasing).\n",
    "Finally, train each network two or three times, and choose the best performing network based on the performance on the validation set as the one to evaluate on the test set.\n",
    "In your experiments, set aside 20% of the data for testing, 20% for validation, and 60% for training.\n",
    "Compare the accuracy of your network to that of a one layer CNN.  Accuracy should be measured using the area under the ROC curve.  In the next part of the assignment you will get to tune its parameters to try and improve its performance.\n",
    "Note that for all datasets you should be able to obtain accuracy of around 0.9 or better."
   ]
  },
  {
   "cell_type": "code",
   "execution_count": null,
   "id": "350bb653",
   "metadata": {},
   "outputs": [
    {
     "name": "stdout",
     "output_type": "stream",
     "text": [
      "Using cuda device\n"
     ]
    }
   ],
   "source": [
    "device = (\n",
    "    \"cuda\"\n",
    "    if torch.cuda.is_available()\n",
    "    else \"mps\"\n",
    "    if torch.backends.mps.is_available()\n",
    "    else \"cpu\"\n",
    ")\n",
    "print(f\"Using {device} device\")\n",
    "\n",
    "class CNN(nn.Module):\n",
    "    def __init__(self, num_motif=8, motif_len=12, sigma_conv=0.01, sigma_w=0.01):\n",
    "      \n",
    "        super(CNN, self).__init__()\n",
    "        # width parameter for initialization of convolutional filters\n",
    "        self.sigma_conv=sigma_conv\n",
    "        # width parameter for initialization of fully connected layer\n",
    "        self.sigma_w=sigma_w\n",
    "        # number of input channels\n",
    "        self.input_channels=4\n",
    "        # activation function\n",
    "        self.activation = nn.ReLU()\n",
    "        self.conv_weights=torch.empty(num_motif,\n",
    "                                      self.input_channels, \n",
    "                                      motif_len,dtype=torch.float).to(device)\n",
    "        self.conv_bias=torch.empty(num_motif, dtype=torch.float).to(device)\n",
    "        self.FC_size=num_motif\n",
    "        torch.nn.init.normal_(self.conv_weights, std=sigma_conv)\n",
    "        torch.nn.init.normal_(self.conv_bias)        \n",
    "        self.conv_weights.requires_grad=True\n",
    "        self.conv_bias.requires_grad=True\n",
    "        \n",
    "        self.w=torch.empty(self.FC_size,1, dtype=torch.float).to(device)\n",
    "        self.b=torch.empty(1, dtype=torch.float).to(device)\n",
    "        torch.nn.init.normal_(self.w,mean=0,\n",
    "                              std=self.sigma_w)\n",
    "        torch.nn.init.normal_(self.b,mean=0,\n",
    "                              std=self.sigma_w)\n",
    "        self.w.requires_grad=True\n",
    "        self.b.requires_grad=True\n",
    "                \n",
    "    def get_weights(self):\n",
    "        return [self.conv_weights, self.conv_bias, model.w, model.b]\n",
    "        \n",
    "    def forward(self, x):\n",
    "        # 1d convolution:\n",
    "        x=nn.functional.conv1d(x, self.conv_weights, bias=self.conv_bias, \n",
    "                               stride=1, padding=0)\n",
    "        # activation\n",
    "        x=self.activation(x)\n",
    "        # max pooling\n",
    "        x,_ = torch.max(x, dim=2)\n",
    "        # fully connected layer\n",
    "        x=x@self.w + self.b\n",
    "        return torch.sigmoid(x)\n",
    "    "
   ]
  },
  {
   "cell_type": "code",
   "execution_count": 8,
   "id": "94fbdec9",
   "metadata": {},
   "outputs": [],
   "source": [
    "def train_epoch(dataloader, model, loss_fn, optimizer, epoch):\n",
    "    size = len(dataloader.dataset)\n",
    "    num_batches = len(dataloader)\n",
    "    total_loss = 0\n",
    "    # set the model to training mode - important when you have \n",
    "    # batch normalization and dropout layers\n",
    "    model.train()\n",
    "    for batch_idx, (X, y) in enumerate(dataloader):\n",
    "        X, y = X.to(device), y.to(device)\n",
    "        optimizer.zero_grad()\n",
    "        # Compute prediction and loss\n",
    "        y_pred = model(X)\n",
    "        loss = loss_fn(y_pred, y.view(-1, 1))\n",
    "        # backpropagation\n",
    "        loss.backward()\n",
    "        optimizer.step()\n",
    "        total_loss += loss.item()\n",
    "    if epoch % 10 == 0 :\n",
    "        print(f\"training loss: {total_loss/num_batches:>7f}\")\n",
    "    return total_loss / num_batches\n",
    "\n",
    "def validation(dataloader, model, loss_fn, epoch):\n",
    "    # set the model to evaluation mode \n",
    "    model.eval()\n",
    "    # size of dataset\n",
    "    size = len(dataloader.dataset)\n",
    "    num_batches = len(dataloader)\n",
    "    validation_loss, correct = 0, 0\n",
    "    # Evaluating the model with torch.no_grad() ensures that no gradients \n",
    "    # are computed during test mode\n",
    "    # also serves to reduce unnecessary gradient computations and memory usage \n",
    "    # for tensors with requires_grad=True\n",
    "    with torch.no_grad():\n",
    "        for X, y in dataloader:\n",
    "            X, y = X.to(device), y.to(device)\n",
    "            y_pred = model(X)\n",
    "            validation_loss += loss_fn(y_pred, y.view(-1, 1)).item()\n",
    "            pred = np.heaviside(y_pred.detach().cpu().numpy().reshape(len(y_pred))-0.5,0)\n",
    "            correct += (pred == y.detach().cpu().numpy().reshape(len(y))).sum()\n",
    "    validation_loss /= num_batches\n",
    "    correct /= size\n",
    "    if epoch%10 == 0 :\n",
    "        print(f\"Validation Accuracy: {correct:>8f}\\nAvg test loss: {validation_loss:>8f} \\n\")\n",
    "    return validation_loss\n"
   ]
  },
  {
   "cell_type": "code",
   "execution_count": 9,
   "id": "c74dd394",
   "metadata": {},
   "outputs": [],
   "source": [
    "model = CNN(8,12,0.01,0.01).to(device)\n",
    "\n",
    "optimizer = torch.optim.SGD(model.get_weights(),\n",
    "                            lr=0.01, momentum=0.9, nesterov=True, weight_decay=1e-06);\n",
    "\n",
    "optimizer = torch.optim.Adam(model.get_weights(), lr=0.01)"
   ]
  },
  {
   "cell_type": "code",
   "execution_count": 10,
   "id": "4af00c05",
   "metadata": {},
   "outputs": [
    {
     "name": "stdout",
     "output_type": "stream",
     "text": [
      "Epoch 0\n",
      "-------------------------------\n",
      "training loss: 0.693039\n",
      "Validation Accuracy: 0.498152\n",
      "Avg test loss: 0.691108 \n",
      "\n",
      "Epoch 10\n",
      "-------------------------------\n",
      "training loss: 0.465619\n",
      "Validation Accuracy: 0.745841\n",
      "Avg test loss: 0.515291 \n",
      "\n",
      "Epoch 20\n",
      "-------------------------------\n",
      "training loss: 0.460242\n",
      "Validation Accuracy: 0.754621\n",
      "Avg test loss: 0.517069 \n",
      "\n",
      "Epoch 30\n",
      "-------------------------------\n",
      "training loss: 0.459765\n",
      "Validation Accuracy: 0.751848\n",
      "Avg test loss: 0.516587 \n",
      "\n",
      "Epoch 40\n",
      "-------------------------------\n",
      "training loss: 0.460432\n",
      "Validation Accuracy: 0.758780\n",
      "Avg test loss: 0.520265 \n",
      "\n",
      "Done!\n"
     ]
    }
   ],
   "source": [
    "epochs = 50\n",
    "loss_fn = nn.BCELoss()\n",
    "\n",
    "train_loss = []\n",
    "validation_loss = []\n",
    "for t in range(epochs):\n",
    "    if t % 10 == 0 :\n",
    "        print(f\"Epoch {t}\\n-------------------------------\")\n",
    "    loss = train_epoch(train_loader, model, loss_fn, optimizer, t)\n",
    "    train_loss.append(loss)\n",
    "    loss = validation(valid_loader, model, loss_fn, t)\n",
    "    validation_loss.append(loss)\n",
    "print(\"Done!\")\n"
   ]
  },
  {
   "cell_type": "code",
   "execution_count": 11,
   "id": "0e79b80a",
   "metadata": {},
   "outputs": [
    {
     "data": {
      "image/png": "[encoded data removed]",
      "text/plain": [
       "<Figure size 400x300 with 1 Axes>"
      ]
     },
     "metadata": {},
     "output_type": "display_data"
    }
   ],
   "source": [
    "from matplotlib import pyplot as plt\n",
    "plt.figure(figsize=(4,3))\n",
    "plt.plot(train_loss, label='Training')\n",
    "plt.plot(validation_loss, label='Validation')\n",
    "plt.xlabel('Epoch')\n",
    "plt.ylabel('Loss')\n",
    "plt.ylim(0)\n",
    "plt.legend();"
   ]
  },
  {
   "cell_type": "code",
   "execution_count": 13,
   "id": "25366b57",
   "metadata": {},
   "outputs": [
    {
     "name": "stdout",
     "output_type": "stream",
     "text": [
      "AUC on validation data  0.830291584237914\n"
     ]
    }
   ],
   "source": [
    "from sklearn import metrics\n",
    "\n",
    "with torch.no_grad():\n",
    "    model.eval()\n",
    "    pred_list = []\n",
    "    labels_list = []\n",
    "    for i, (data, target) in enumerate(valid_loader):\n",
    "        data = data.to(device)\n",
    "        target = target.to(device)\n",
    "        output = model(data)\n",
    "        pred=output.cpu().detach().numpy().reshape(output.shape[0])\n",
    "        labels=target.cpu().numpy().reshape(output.shape[0])\n",
    "        pred_list.append(pred)\n",
    "        labels_list.append(labels)\n",
    "    labels = np.concatenate(labels_list)\n",
    "    predictions = np.concatenate(pred_list)\n",
    "    auc = metrics.roc_auc_score(labels, predictions)\n",
    "    print('AUC on validation data ', auc)\n"
   ]
  },
  {
   "cell_type": "markdown",
   "id": "f5995190",
   "metadata": {},
   "source": [
    "### Part 3:  experiments with network architecture and hyperparameters\n"
   ]
  },
  {
   "cell_type": "markdown",
   "id": "ba53c9e3",
   "metadata": {},
   "source": [
    "With the implementation you created in Part 2, your next task is to explore the space of hyperparameters and architecture choices to determine their effect on the performance of your three-layer network.  Choose three aspects of the network to explore (e.g. the learning rate, whether dropout is helpful, the choice of activation function, etc.).  Discuss your results.  Which aspects of the model seem to have the most effect on the accuracy of the network?  Do the best parameter values vary from dataset to dataset?  Is your three layer network able to match or exceed the performance of a single layer network?  Hint:  it should!"
   ]
  },
  {
   "cell_type": "markdown",
   "id": "ac7d3faa-2dd2-4bd5-bdae-b0480ae04839",
   "metadata": {},
   "source": [
    "### Coding and reporting your results\n",
    "\n",
    "In your notebook, I do not want to see repetitive code.  Such code belongs in a function!\n",
    "In your reporting, make sure your results are clearly presented.  I recommend using a table format, and your table can be populated by your code.  pandas DataFrame objects render nicely in Jupyter notebooks.  Here's an example:\n"
   ]
  },
  {
   "cell_type": "code",
   "execution_count": null,
   "id": "45285b8f",
   "metadata": {},
   "outputs": [],
   "source": []
  },
  {
   "cell_type": "code",
   "execution_count": null,
   "id": "dac72281-efc0-440d-bc0b-ecd991a7468d",
   "metadata": {},
   "outputs": [],
   "source": [
    "import pandas as pd\n",
    "import numpy as np\n",
    "\n",
    "data = [\n",
    "    ['AGL16', 'Dropout', 0.2, 0.92 ],\n",
    "    ['GRF1', 'Dropout', 0.3, 0.9],\n",
    "]\n",
    "pd.DataFrame(data, columns = ['Dataset', 'Hyperparameter', 'Value', 'Accuracy'])"
   ]
  },
  {
   "cell_type": "markdown",
   "id": "b8779163-cfbd-4f23-9cd8-e710dbdebd25",
   "metadata": {},
   "source": [
    "#### Grading\n",
    "\n",
    "```\n",
    "Part 1: dataset creation (20 pts)\n",
    "Part 2: implementation of three layer network, early stopping, and multiple training (40 pts)\n",
    "Part 3: experiments on network architecture (40 pts)\n",
    "```"
   ]
  }
 ],
 "metadata": {
  "kernelspec": {
   "display_name": ".venv",
   "language": "python",
   "name": "python3"
  },
  "language_info": {
   "codemirror_mode": {
    "name": "ipython",
    "version": 3
   },
   "file_extension": ".py",
   "mimetype": "text/x-python",
   "name": "python",
   "nbconvert_exporter": "python",
   "pygments_lexer": "ipython3",
   "version": "3.12.7"
  }
 },
 "nbformat": 4,
 "nbformat_minor": 5
}
