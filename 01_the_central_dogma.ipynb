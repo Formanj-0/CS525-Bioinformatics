{
 "cells": [
  {
   "cell_type": "markdown",
   "metadata": {},
   "source": [
    "# CS 525 exercise 1:  the central dogma of molecular biology"
   ]
  },
  {
   "cell_type": "markdown",
   "metadata": {},
   "source": [
    "The objective of this notebook is to understand DNA strand complementarity and the concepts of transcription of DNA to RNA and translation of RNA to protein."
   ]
  },
  {
   "cell_type": "markdown",
   "metadata": {},
   "source": [
    "### Problem 0 - a discussion of Python dictionaries\n",
    "\n",
    "Python dictionaries are a highly effective and efficient way to map keys to values.  Which underlying data structure is used in implementing Python dictionaries?  Given that information what can you say about the computational time required to insert or retrieve a value from a dictionary?"
   ]
  },
  {
   "cell_type": "markdown",
   "metadata": {},
   "source": [
    "Python dictionaries are hash tables and have O(1) time for insertion and lookup"
   ]
  },
  {
   "cell_type": "markdown",
   "metadata": {},
   "source": [
    "### Problem 1 - reverse complement\n",
    "\n",
    "In this problem, we will write a function that is given the string representing a strand of a DNA molecule and returns a string representing the  complementary strand.\n"
   ]
  },
  {
   "cell_type": "code",
   "execution_count": 1,
   "metadata": {},
   "outputs": [],
   "source": [
    "def reverse_complement(sequence): # this takes in a 3' - > 5'\n",
    "    \"\"\"Returns the reverse complement of the input sequence\"\"\"\n",
    "    transcription_lookup = {'A': 'T',\n",
    "                         'T': 'A',\n",
    "                         'G': 'C',\n",
    "                         'C': 'G'}\n",
    "    return ''.join(transcription_lookup[base] for base in sequence.upper()[::-1]) # 3' -> 5'"
   ]
  },
  {
   "cell_type": "code",
   "execution_count": 2,
   "metadata": {},
   "outputs": [
    {
     "name": "stdout",
     "output_type": "stream",
     "text": [
      "SUCCESS: all tests for reverse_complement passed!\n"
     ]
    }
   ],
   "source": [
    "# tests for reverse_complement\n",
    "assert reverse_complement(\"A\") == \"T\"\n",
    "assert reverse_complement(\"ATCG\") == \"CGAT\"\n",
    "assert reverse_complement(\"\") == \"\"\n",
    "assert reverse_complement(\"GAATTC\") == \"GAATTC\", \"Failed on palindromic EcoR1 recognition sequence\"\n",
    "print(\"SUCCESS: all tests for reverse_complement passed!\")"
   ]
  },
  {
   "cell_type": "markdown",
   "metadata": {},
   "source": [
    "### Problem 2 - transcription\n",
    "\n",
    "Write a function that takes as input a string representing a DNA sequence and outputs the string representing the RNA that would result from transcribing this DNA sequence."
   ]
  },
  {
   "cell_type": "markdown",
   "metadata": {},
   "source": [
    "As a hint, there is a [string method](https://docs.python.org/3/library/stdtypes.html#string-methods) that will allow you to do this in one line."
   ]
  },
  {
   "cell_type": "code",
   "execution_count": 3,
   "metadata": {},
   "outputs": [
    {
     "data": {
      "text/plain": [
       "'UAGC'"
      ]
     },
     "execution_count": 3,
     "metadata": {},
     "output_type": "execute_result"
    }
   ],
   "source": [
    "def transcribe(sequence): # assumption this is a positive sense DNA strand and is 3' -> 5'\n",
    "    \"\"\"\n",
    "    Returns the RNA sequence that would result from transcription\n",
    "    of a DNA sense strand sequence\n",
    "    \"\"\"\n",
    "    transcription_lookup = {'A': 'U', 'T': 'A', 'G': 'C', 'C': 'G'}\n",
    "    return ''.join(transcription_lookup[base] for base in sequence.upper()) # this will return rna that is 5' -> 3'\n",
    "transcribe('ATCG')"
   ]
  },
  {
   "cell_type": "markdown",
   "metadata": {},
   "source": [
    "### Problem 3 - translation\n",
    "\n",
    "In this problem you will write a function that translates an RNA sequence into the protein sequence for which it codes.  Recall that each codon is translated into an amino acid, where codons are nonoverlapping substrings of length three.\n",
    "To assist you in this task, here is a Python dictionary that represents the standard genetic code:"
   ]
  },
  {
   "cell_type": "code",
   "execution_count": 4,
   "metadata": {},
   "outputs": [],
   "source": [
    "genetic_code = {\n",
    " 'AAA': 'K', 'AAC': 'N', 'AAG': 'K', 'AAU': 'N',\n",
    " 'ACA': 'U', 'ACC': 'U', 'ACG': 'U', 'ACU': 'U',\n",
    " 'AGA': 'R', 'AGC': 'S', 'AGG': 'R', 'AGU': 'S',\n",
    " 'AUA': 'I', 'AUC': 'I', 'AUG': 'M', 'AUU': 'I',\n",
    " 'CAA': 'Q', 'CAC': 'H', 'CAG': 'Q', 'CAU': 'H',\n",
    " 'CCA': 'P', 'CCC': 'P', 'CCG': 'P', 'CCU': 'P',\n",
    " 'CGA': 'R', 'CGC': 'R', 'CGG': 'R', 'CGU': 'R',\n",
    " 'CUA': 'L', 'CUC': 'L', 'CUG': 'L', 'CUU': 'L',\n",
    " 'GAA': 'E', 'GAC': 'D', 'GAG': 'E', 'GAU': 'D',\n",
    " 'GCA': 'A', 'GCC': 'A', 'GCG': 'A', 'GCU': 'A',\n",
    " 'GGA': 'G', 'GGC': 'G', 'GGG': 'G', 'GGU': 'G',\n",
    " 'GUA': 'V', 'GUC': 'V', 'GUG': 'V', 'GUU': 'V',\n",
    " 'UAA': '*', 'UAC': 'Y', 'UAG': '*', 'UAU': 'Y',\n",
    " 'UCA': 'S', 'UCC': 'S', 'UCG': 'S', 'UCU': 'S',\n",
    " 'UGA': '*', 'UGC': 'C', 'UGG': 'W', 'UGU': 'C',\n",
    " 'UUA': 'L', 'UUC': 'F', 'UUG': 'L', 'UUU': 'F'}"
   ]
  },
  {
   "cell_type": "code",
   "execution_count": 5,
   "metadata": {},
   "outputs": [],
   "source": [
    "def translate(rna_sequence): # this will take in 5' -> 3' RNA\n",
    "    \"\"\"\n",
    "    Returns the protein sequence resulting from translation of \n",
    "    a given RNA sequence\n",
    "    \"\"\"\n",
    "    return ''.join(genetic_code[rna_sequence[i:i+3]] for i in range(0, len(rna_sequence), 3)) # return N to C protein"
   ]
  },
  {
   "cell_type": "code",
   "execution_count": 6,
   "metadata": {},
   "outputs": [
    {
     "name": "stdout",
     "output_type": "stream",
     "text": [
      "SUCCESS: translate_rna_fragment passed all tests!\n"
     ]
    }
   ],
   "source": [
    "assert translate(\"UUUGCGACUUAU\") == \"FAUY\", \"Failed on input 'UUUGCGACUUAU'\"\n",
    "assert translate(\"ACG\") == \"U\", \"Failed on input 'UGA'\"\n",
    "assert translate(\"\") == \"\", \"Failed on the empty string\"\n",
    "print(\"SUCCESS: translate_rna_fragment passed all tests!\")"
   ]
  },
  {
   "cell_type": "markdown",
   "metadata": {},
   "source": [
    "### Problem 4 - Consequences of the deltaF508 mutation in CFTR \n",
    "\n",
    "One of the most famous disease causing mutations in humans is the deltaF508 mutation in the *CFTR* gene.  This is the most common mutation among people with Cystic Fibrosis.  This mutation occurs in the gene fragment shown below and corresponds to the deletion of 3 consecutive bases, starting at base 129 (using 1-based indexing).  The code below shows how to generate the sequence corresponding to the mutation.\n",
    "\n",
    "We will now examine how the deltaF508 mutation impacts the resulting amino acid sequence of the encoded protein.  Here is the sequence of the CFTR gene fragment:"
   ]
  },
  {
   "cell_type": "code",
   "execution_count": 7,
   "metadata": {},
   "outputs": [
    {
     "name": "stdout",
     "output_type": "stream",
     "text": [
      "ACTTCACTTCTAATGGTGATTATGGGAGAACTGGAGCCTTCAGAGGGTAAAATTAAGCACAGTGGAAGAATTTCATTCTGTTCTCAGTTTTCCTGGATTATGCCTGGCACCATTAAAGAAAATATCATCTTTGGTGTTTCCTATGATGAATATAGATACAGAAGCGTCATCAAAGCATGCCAACTAGAAGAG\n",
      "*SEDYH*YPLDLGSLPF*FVSPS*SKURVKRU*YGPW*FLL**KPQRILLISMSSQ*FRUVDLL\n"
     ]
    }
   ],
   "source": [
    "cftr_gene_fragment = (\"ACTTCACTTCTAATGGTGATTATGGGAGAACTGGAGCCTTCAGAGGGTAA\"\n",
    "                      \"AATTAAGCACAGTGGAAGAATTTCATTCTGTTCTCAGTTTTCCTGGATTA\"\n",
    "                      \"TGCCTGGCACCATTAAAGAAAATATCATCTTTGGTGTTTCCTATGATGAA\"\n",
    "                      \"TATAGATACAGAAGCGTCATCAAAGCATGCCAACTAGAAGAG\")\n",
    "print(cftr_gene_fragment)\n",
    "print(translate(transcribe(cftr_gene_fragment)))"
   ]
  },
  {
   "cell_type": "markdown",
   "metadata": {},
   "source": [
    "And here is the sequence of the mutated CFTR gene fragment, which has bases 129, 130, and 131 (1-based coordinates) removed:"
   ]
  },
  {
   "cell_type": "code",
   "execution_count": 8,
   "metadata": {},
   "outputs": [
    {
     "name": "stdout",
     "output_type": "stream",
     "text": [
      "ACTTCACTTCTAATGGTGATTATGGGAGAACTGGAGCCTTCAGAGGGTAAAATTAAGCACAGTGGAAGAATTTCATTCTGTTCTCAGTTTTCCTGGATTATGCCTGGCACCATTAAAGAAAATATCATTGGTGTTTCCTATGATGAATATAGATACAGAAGCGTCATCAAAGCATGCCAACTAGAAGAG\n",
      "*SEDYH*YPLDLGSLPF*FVSPS*SKURVKRU*YGPW*FLL**PQRILLISMSSQ*FRUVDLL\n"
     ]
    }
   ],
   "source": [
    "deltaf508_fragment = cftr_gene_fragment[:128] + cftr_gene_fragment[131:]\n",
    "print(deltaf508_fragment)\n",
    "print(translate(transcribe(deltaf508_fragment)))"
   ]
  },
  {
   "cell_type": "markdown",
   "metadata": {},
   "source": [
    "What are the consequences of this mutation on the protein sequence of this gene?\n",
    "Keep in mind that the first three bases of the fragment are a codon.  **Note that it's possible to answer this simply by considering the coordinates of the mutation and the number of bases removed by the mutation**.  You can then verify your answer using your translation function."
   ]
  },
  {
   "cell_type": "markdown",
   "metadata": {},
   "source": [
    "Mutation can cause many issue. In this case it was the deletion of a K and caused everything after the mutation to shift. This can cause major changes to the protein structure. This one is unique in that it deletes a whole codon and does not cause a frame shift. If single point deletion occurs you can get frame shift that can lead to complete changes in the protein structure after the mutation point because the ribosome reads every 3 base pairs at a time. "
   ]
  },
  {
   "cell_type": "markdown",
   "metadata": {},
   "source": []
  }
 ],
 "metadata": {
  "kernelspec": {
   "display_name": ".venv",
   "language": "python",
   "name": "python3"
  },
  "language_info": {
   "codemirror_mode": {
    "name": "ipython",
    "version": 3
   },
   "file_extension": ".py",
   "mimetype": "text/x-python",
   "name": "python",
   "nbconvert_exporter": "python",
   "pygments_lexer": "ipython3",
   "version": "3.12.7"
  }
 },
 "nbformat": 4,
 "nbformat_minor": 4
}
